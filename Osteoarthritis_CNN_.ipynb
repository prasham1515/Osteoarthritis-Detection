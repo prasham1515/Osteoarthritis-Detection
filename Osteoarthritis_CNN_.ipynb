{
  "cells": [
    {
      "cell_type": "markdown",
      "source": [
        "# **Exploratory Analysis**"
      ],
      "metadata": {
        "id": "9Ez7vMfj095u"
      }
    },
    {
      "cell_type": "markdown",
      "source": [
        "## Importing Modules"
      ],
      "metadata": {
        "id": "zplKyN3l0_fm"
      }
    },
    {
      "cell_type": "code",
      "execution_count": null,
      "metadata": {
        "id": "OejFcG6hxv78"
      },
      "outputs": [],
      "source": [
        "import tensorflow\n",
        "import keras\n",
        "\n",
        "from tensorflow.keras.layers import Conv2D, MaxPool2D, BatchNormalization, GlobalAveragePooling2D, AveragePooling2D, Activation\n",
        "from tensorflow.keras.applications import Xception\n",
        "from tensorflow.keras.preprocessing import image\n",
        "from tensorflow.keras.preprocessing.image import ImageDataGenerator, load_img\n",
        "from tensorflow.keras.models import Model\n",
        "from tensorflow.keras.optimizers import Adam\n",
        "from tensorflow.keras.callbacks import ModelCheckpoint, EarlyStopping, ReduceLROnPlateau\n",
        "\n",
        "import matplotlib.pyplot as plt\n",
        "import numpy as np\n",
        "import pandas as pd \n",
        "import seaborn as sns\n",
        "import os\n",
        "\n",
        "from sklearn.metrics import confusion_matrix, ConfusionMatrixDisplay\n",
        "from sklearn.utils import class_weight"
      ]
    },
    {
      "cell_type": "markdown",
      "source": [
        "## Mounting the Drive"
      ],
      "metadata": {
        "id": "WMY9Kf141GdM"
      }
    },
    {
      "cell_type": "code",
      "execution_count": null,
      "metadata": {
        "colab": {
          "base_uri": "https://localhost:8080/"
        },
        "id": "O-GFrduzChMB",
        "outputId": "1e0c81b0-31ea-4ba0-9725-5f3967f0421b"
      },
      "outputs": [
        {
          "output_type": "stream",
          "name": "stdout",
          "text": [
            "Drive already mounted at /content/drive; to attempt to forcibly remount, call drive.mount(\"/content/drive\", force_remount=True).\n"
          ]
        }
      ],
      "source": [
        "from google.colab import drive\n",
        "drive.mount('/content/drive')"
      ]
    },
    {
      "cell_type": "markdown",
      "source": [
        "## Reading Image Dataset"
      ],
      "metadata": {
        "id": "zBXnMkLQ1I3o"
      }
    },
    {
      "cell_type": "code",
      "execution_count": null,
      "metadata": {
        "colab": {
          "base_uri": "https://localhost:8080/"
        },
        "id": "X9epT5LzIK0g",
        "outputId": "bdd9f667-3533-4359-e902-f9f4d62f0645"
      },
      "outputs": [
        {
          "output_type": "stream",
          "name": "stdout",
          "text": [
            "['4', '3', '0', '1', '2']\n"
          ]
        }
      ],
      "source": [
        "directory= f\"/content/drive/My Drive/Project/train\"\n",
        "folderlist= os.listdir(directory)\n",
        "print(folderlist)"
      ]
    },
    {
      "cell_type": "code",
      "execution_count": null,
      "metadata": {
        "id": "yKiYgojJIvfv"
      },
      "outputs": [],
      "source": [
        "image_path_list = []\n",
        "label_list = []\n",
        "for folder in folderlist:\n",
        "    image_list = os.listdir(f\"{directory}/{folder}\")\n",
        "    image_path_list += [ f\"{directory}/{folder}/\"+ path for path in image_list]\n",
        "    label_list += [folder] * len(image_list)\n",
        "\n",
        "train = pd.DataFrame({\"filepath\" : image_path_list, \"label\": label_list})"
      ]
    },
    {
      "cell_type": "code",
      "execution_count": null,
      "metadata": {
        "colab": {
          "base_uri": "https://localhost:8080/",
          "height": 423
        },
        "id": "fCHo_LK7JNr6",
        "outputId": "68bbdc28-fa09-4e94-a8aa-f10d8688e604"
      },
      "outputs": [
        {
          "output_type": "execute_result",
          "data": {
            "text/plain": [
              "                                               filepath label\n",
              "0     /content/drive/My Drive/Project/train/4/967195...     4\n",
              "1     /content/drive/My Drive/Project/train/4/910378...     4\n",
              "2     /content/drive/My Drive/Project/train/4/948699...     4\n",
              "3     /content/drive/My Drive/Project/train/4/911403...     4\n",
              "4     /content/drive/My Drive/Project/train/4/939398...     4\n",
              "...                                                 ...   ...\n",
              "5773  /content/drive/My Drive/Project/train/2/967623...     2\n",
              "5774  /content/drive/My Drive/Project/train/2/982187...     2\n",
              "5775  /content/drive/My Drive/Project/train/2/939460...     2\n",
              "5776  /content/drive/My Drive/Project/train/2/952364...     2\n",
              "5777  /content/drive/My Drive/Project/train/2/948048...     2\n",
              "\n",
              "[5778 rows x 2 columns]"
            ],
            "text/html": [
              "\n",
              "  <div id=\"df-799b0296-7930-4f63-bf6c-7798df307bb7\">\n",
              "    <div class=\"colab-df-container\">\n",
              "      <div>\n",
              "<style scoped>\n",
              "    .dataframe tbody tr th:only-of-type {\n",
              "        vertical-align: middle;\n",
              "    }\n",
              "\n",
              "    .dataframe tbody tr th {\n",
              "        vertical-align: top;\n",
              "    }\n",
              "\n",
              "    .dataframe thead th {\n",
              "        text-align: right;\n",
              "    }\n",
              "</style>\n",
              "<table border=\"1\" class=\"dataframe\">\n",
              "  <thead>\n",
              "    <tr style=\"text-align: right;\">\n",
              "      <th></th>\n",
              "      <th>filepath</th>\n",
              "      <th>label</th>\n",
              "    </tr>\n",
              "  </thead>\n",
              "  <tbody>\n",
              "    <tr>\n",
              "      <th>0</th>\n",
              "      <td>/content/drive/My Drive/Project/train/4/967195...</td>\n",
              "      <td>4</td>\n",
              "    </tr>\n",
              "    <tr>\n",
              "      <th>1</th>\n",
              "      <td>/content/drive/My Drive/Project/train/4/910378...</td>\n",
              "      <td>4</td>\n",
              "    </tr>\n",
              "    <tr>\n",
              "      <th>2</th>\n",
              "      <td>/content/drive/My Drive/Project/train/4/948699...</td>\n",
              "      <td>4</td>\n",
              "    </tr>\n",
              "    <tr>\n",
              "      <th>3</th>\n",
              "      <td>/content/drive/My Drive/Project/train/4/911403...</td>\n",
              "      <td>4</td>\n",
              "    </tr>\n",
              "    <tr>\n",
              "      <th>4</th>\n",
              "      <td>/content/drive/My Drive/Project/train/4/939398...</td>\n",
              "      <td>4</td>\n",
              "    </tr>\n",
              "    <tr>\n",
              "      <th>...</th>\n",
              "      <td>...</td>\n",
              "      <td>...</td>\n",
              "    </tr>\n",
              "    <tr>\n",
              "      <th>5773</th>\n",
              "      <td>/content/drive/My Drive/Project/train/2/967623...</td>\n",
              "      <td>2</td>\n",
              "    </tr>\n",
              "    <tr>\n",
              "      <th>5774</th>\n",
              "      <td>/content/drive/My Drive/Project/train/2/982187...</td>\n",
              "      <td>2</td>\n",
              "    </tr>\n",
              "    <tr>\n",
              "      <th>5775</th>\n",
              "      <td>/content/drive/My Drive/Project/train/2/939460...</td>\n",
              "      <td>2</td>\n",
              "    </tr>\n",
              "    <tr>\n",
              "      <th>5776</th>\n",
              "      <td>/content/drive/My Drive/Project/train/2/952364...</td>\n",
              "      <td>2</td>\n",
              "    </tr>\n",
              "    <tr>\n",
              "      <th>5777</th>\n",
              "      <td>/content/drive/My Drive/Project/train/2/948048...</td>\n",
              "      <td>2</td>\n",
              "    </tr>\n",
              "  </tbody>\n",
              "</table>\n",
              "<p>5778 rows × 2 columns</p>\n",
              "</div>\n",
              "      <button class=\"colab-df-convert\" onclick=\"convertToInteractive('df-799b0296-7930-4f63-bf6c-7798df307bb7')\"\n",
              "              title=\"Convert this dataframe to an interactive table.\"\n",
              "              style=\"display:none;\">\n",
              "        \n",
              "  <svg xmlns=\"http://www.w3.org/2000/svg\" height=\"24px\"viewBox=\"0 0 24 24\"\n",
              "       width=\"24px\">\n",
              "    <path d=\"M0 0h24v24H0V0z\" fill=\"none\"/>\n",
              "    <path d=\"M18.56 5.44l.94 2.06.94-2.06 2.06-.94-2.06-.94-.94-2.06-.94 2.06-2.06.94zm-11 1L8.5 8.5l.94-2.06 2.06-.94-2.06-.94L8.5 2.5l-.94 2.06-2.06.94zm10 10l.94 2.06.94-2.06 2.06-.94-2.06-.94-.94-2.06-.94 2.06-2.06.94z\"/><path d=\"M17.41 7.96l-1.37-1.37c-.4-.4-.92-.59-1.43-.59-.52 0-1.04.2-1.43.59L10.3 9.45l-7.72 7.72c-.78.78-.78 2.05 0 2.83L4 21.41c.39.39.9.59 1.41.59.51 0 1.02-.2 1.41-.59l7.78-7.78 2.81-2.81c.8-.78.8-2.07 0-2.86zM5.41 20L4 18.59l7.72-7.72 1.47 1.35L5.41 20z\"/>\n",
              "  </svg>\n",
              "      </button>\n",
              "      \n",
              "  <style>\n",
              "    .colab-df-container {\n",
              "      display:flex;\n",
              "      flex-wrap:wrap;\n",
              "      gap: 12px;\n",
              "    }\n",
              "\n",
              "    .colab-df-convert {\n",
              "      background-color: #E8F0FE;\n",
              "      border: none;\n",
              "      border-radius: 50%;\n",
              "      cursor: pointer;\n",
              "      display: none;\n",
              "      fill: #1967D2;\n",
              "      height: 32px;\n",
              "      padding: 0 0 0 0;\n",
              "      width: 32px;\n",
              "    }\n",
              "\n",
              "    .colab-df-convert:hover {\n",
              "      background-color: #E2EBFA;\n",
              "      box-shadow: 0px 1px 2px rgba(60, 64, 67, 0.3), 0px 1px 3px 1px rgba(60, 64, 67, 0.15);\n",
              "      fill: #174EA6;\n",
              "    }\n",
              "\n",
              "    [theme=dark] .colab-df-convert {\n",
              "      background-color: #3B4455;\n",
              "      fill: #D2E3FC;\n",
              "    }\n",
              "\n",
              "    [theme=dark] .colab-df-convert:hover {\n",
              "      background-color: #434B5C;\n",
              "      box-shadow: 0px 1px 3px 1px rgba(0, 0, 0, 0.15);\n",
              "      filter: drop-shadow(0px 1px 2px rgba(0, 0, 0, 0.3));\n",
              "      fill: #FFFFFF;\n",
              "    }\n",
              "  </style>\n",
              "\n",
              "      <script>\n",
              "        const buttonEl =\n",
              "          document.querySelector('#df-799b0296-7930-4f63-bf6c-7798df307bb7 button.colab-df-convert');\n",
              "        buttonEl.style.display =\n",
              "          google.colab.kernel.accessAllowed ? 'block' : 'none';\n",
              "\n",
              "        async function convertToInteractive(key) {\n",
              "          const element = document.querySelector('#df-799b0296-7930-4f63-bf6c-7798df307bb7');\n",
              "          const dataTable =\n",
              "            await google.colab.kernel.invokeFunction('convertToInteractive',\n",
              "                                                     [key], {});\n",
              "          if (!dataTable) return;\n",
              "\n",
              "          const docLinkHtml = 'Like what you see? Visit the ' +\n",
              "            '<a target=\"_blank\" href=https://colab.research.google.com/notebooks/data_table.ipynb>data table notebook</a>'\n",
              "            + ' to learn more about interactive tables.';\n",
              "          element.innerHTML = '';\n",
              "          dataTable['output_type'] = 'display_data';\n",
              "          await google.colab.output.renderOutput(dataTable, element);\n",
              "          const docLink = document.createElement('div');\n",
              "          docLink.innerHTML = docLinkHtml;\n",
              "          element.appendChild(docLink);\n",
              "        }\n",
              "      </script>\n",
              "    </div>\n",
              "  </div>\n",
              "  "
            ]
          },
          "metadata": {},
          "execution_count": 6
        }
      ],
      "source": [
        "train"
      ]
    },
    {
      "cell_type": "code",
      "execution_count": null,
      "metadata": {
        "id": "ed6UKkvdJYYC"
      },
      "outputs": [],
      "source": [
        "directory= f\"/content/drive/My Drive/Project/test\"\n",
        "folderlist= os.listdir(directory)\n",
        "image_path_list = []\n",
        "label_list = []\n",
        "for folder in folderlist:\n",
        "    image_list = os.listdir(f\"{directory}/{folder}\")\n",
        "    image_path_list += [ f\"{directory}/{folder}/\"+ path for path in image_list]\n",
        "    label_list += [folder] * len(image_list)\n",
        "\n",
        "test = pd.DataFrame({\"filepath\" : image_path_list, \"label\": label_list})"
      ]
    },
    {
      "cell_type": "code",
      "execution_count": null,
      "metadata": {
        "colab": {
          "base_uri": "https://localhost:8080/",
          "height": 423
        },
        "id": "D1fZynHqKiFI",
        "outputId": "f07d6efc-9413-431c-dccb-e0db744dc6d6"
      },
      "outputs": [
        {
          "output_type": "execute_result",
          "data": {
            "text/plain": [
              "                                              filepath label\n",
              "0    /content/drive/My Drive/Project/test/4/9284795...     4\n",
              "1    /content/drive/My Drive/Project/test/4/9235666...     4\n",
              "2    /content/drive/My Drive/Project/test/4/9387265...     4\n",
              "3    /content/drive/My Drive/Project/test/4/9693806...     4\n",
              "4    /content/drive/My Drive/Project/test/4/9086204...     4\n",
              "..                                                 ...   ...\n",
              "821  /content/drive/My Drive/Project/test/1/9522615...     1\n",
              "822  /content/drive/My Drive/Project/test/1/9560051...     1\n",
              "823  /content/drive/My Drive/Project/test/1/9284909...     1\n",
              "824  /content/drive/My Drive/Project/test/1/9222068...     1\n",
              "825  /content/drive/My Drive/Project/test/1/9951159...     1\n",
              "\n",
              "[826 rows x 2 columns]"
            ],
            "text/html": [
              "\n",
              "  <div id=\"df-605118ce-5f5b-4729-8853-04a4bb2f3604\">\n",
              "    <div class=\"colab-df-container\">\n",
              "      <div>\n",
              "<style scoped>\n",
              "    .dataframe tbody tr th:only-of-type {\n",
              "        vertical-align: middle;\n",
              "    }\n",
              "\n",
              "    .dataframe tbody tr th {\n",
              "        vertical-align: top;\n",
              "    }\n",
              "\n",
              "    .dataframe thead th {\n",
              "        text-align: right;\n",
              "    }\n",
              "</style>\n",
              "<table border=\"1\" class=\"dataframe\">\n",
              "  <thead>\n",
              "    <tr style=\"text-align: right;\">\n",
              "      <th></th>\n",
              "      <th>filepath</th>\n",
              "      <th>label</th>\n",
              "    </tr>\n",
              "  </thead>\n",
              "  <tbody>\n",
              "    <tr>\n",
              "      <th>0</th>\n",
              "      <td>/content/drive/My Drive/Project/test/4/9284795...</td>\n",
              "      <td>4</td>\n",
              "    </tr>\n",
              "    <tr>\n",
              "      <th>1</th>\n",
              "      <td>/content/drive/My Drive/Project/test/4/9235666...</td>\n",
              "      <td>4</td>\n",
              "    </tr>\n",
              "    <tr>\n",
              "      <th>2</th>\n",
              "      <td>/content/drive/My Drive/Project/test/4/9387265...</td>\n",
              "      <td>4</td>\n",
              "    </tr>\n",
              "    <tr>\n",
              "      <th>3</th>\n",
              "      <td>/content/drive/My Drive/Project/test/4/9693806...</td>\n",
              "      <td>4</td>\n",
              "    </tr>\n",
              "    <tr>\n",
              "      <th>4</th>\n",
              "      <td>/content/drive/My Drive/Project/test/4/9086204...</td>\n",
              "      <td>4</td>\n",
              "    </tr>\n",
              "    <tr>\n",
              "      <th>...</th>\n",
              "      <td>...</td>\n",
              "      <td>...</td>\n",
              "    </tr>\n",
              "    <tr>\n",
              "      <th>821</th>\n",
              "      <td>/content/drive/My Drive/Project/test/1/9522615...</td>\n",
              "      <td>1</td>\n",
              "    </tr>\n",
              "    <tr>\n",
              "      <th>822</th>\n",
              "      <td>/content/drive/My Drive/Project/test/1/9560051...</td>\n",
              "      <td>1</td>\n",
              "    </tr>\n",
              "    <tr>\n",
              "      <th>823</th>\n",
              "      <td>/content/drive/My Drive/Project/test/1/9284909...</td>\n",
              "      <td>1</td>\n",
              "    </tr>\n",
              "    <tr>\n",
              "      <th>824</th>\n",
              "      <td>/content/drive/My Drive/Project/test/1/9222068...</td>\n",
              "      <td>1</td>\n",
              "    </tr>\n",
              "    <tr>\n",
              "      <th>825</th>\n",
              "      <td>/content/drive/My Drive/Project/test/1/9951159...</td>\n",
              "      <td>1</td>\n",
              "    </tr>\n",
              "  </tbody>\n",
              "</table>\n",
              "<p>826 rows × 2 columns</p>\n",
              "</div>\n",
              "      <button class=\"colab-df-convert\" onclick=\"convertToInteractive('df-605118ce-5f5b-4729-8853-04a4bb2f3604')\"\n",
              "              title=\"Convert this dataframe to an interactive table.\"\n",
              "              style=\"display:none;\">\n",
              "        \n",
              "  <svg xmlns=\"http://www.w3.org/2000/svg\" height=\"24px\"viewBox=\"0 0 24 24\"\n",
              "       width=\"24px\">\n",
              "    <path d=\"M0 0h24v24H0V0z\" fill=\"none\"/>\n",
              "    <path d=\"M18.56 5.44l.94 2.06.94-2.06 2.06-.94-2.06-.94-.94-2.06-.94 2.06-2.06.94zm-11 1L8.5 8.5l.94-2.06 2.06-.94-2.06-.94L8.5 2.5l-.94 2.06-2.06.94zm10 10l.94 2.06.94-2.06 2.06-.94-2.06-.94-.94-2.06-.94 2.06-2.06.94z\"/><path d=\"M17.41 7.96l-1.37-1.37c-.4-.4-.92-.59-1.43-.59-.52 0-1.04.2-1.43.59L10.3 9.45l-7.72 7.72c-.78.78-.78 2.05 0 2.83L4 21.41c.39.39.9.59 1.41.59.51 0 1.02-.2 1.41-.59l7.78-7.78 2.81-2.81c.8-.78.8-2.07 0-2.86zM5.41 20L4 18.59l7.72-7.72 1.47 1.35L5.41 20z\"/>\n",
              "  </svg>\n",
              "      </button>\n",
              "      \n",
              "  <style>\n",
              "    .colab-df-container {\n",
              "      display:flex;\n",
              "      flex-wrap:wrap;\n",
              "      gap: 12px;\n",
              "    }\n",
              "\n",
              "    .colab-df-convert {\n",
              "      background-color: #E8F0FE;\n",
              "      border: none;\n",
              "      border-radius: 50%;\n",
              "      cursor: pointer;\n",
              "      display: none;\n",
              "      fill: #1967D2;\n",
              "      height: 32px;\n",
              "      padding: 0 0 0 0;\n",
              "      width: 32px;\n",
              "    }\n",
              "\n",
              "    .colab-df-convert:hover {\n",
              "      background-color: #E2EBFA;\n",
              "      box-shadow: 0px 1px 2px rgba(60, 64, 67, 0.3), 0px 1px 3px 1px rgba(60, 64, 67, 0.15);\n",
              "      fill: #174EA6;\n",
              "    }\n",
              "\n",
              "    [theme=dark] .colab-df-convert {\n",
              "      background-color: #3B4455;\n",
              "      fill: #D2E3FC;\n",
              "    }\n",
              "\n",
              "    [theme=dark] .colab-df-convert:hover {\n",
              "      background-color: #434B5C;\n",
              "      box-shadow: 0px 1px 3px 1px rgba(0, 0, 0, 0.15);\n",
              "      filter: drop-shadow(0px 1px 2px rgba(0, 0, 0, 0.3));\n",
              "      fill: #FFFFFF;\n",
              "    }\n",
              "  </style>\n",
              "\n",
              "      <script>\n",
              "        const buttonEl =\n",
              "          document.querySelector('#df-605118ce-5f5b-4729-8853-04a4bb2f3604 button.colab-df-convert');\n",
              "        buttonEl.style.display =\n",
              "          google.colab.kernel.accessAllowed ? 'block' : 'none';\n",
              "\n",
              "        async function convertToInteractive(key) {\n",
              "          const element = document.querySelector('#df-605118ce-5f5b-4729-8853-04a4bb2f3604');\n",
              "          const dataTable =\n",
              "            await google.colab.kernel.invokeFunction('convertToInteractive',\n",
              "                                                     [key], {});\n",
              "          if (!dataTable) return;\n",
              "\n",
              "          const docLinkHtml = 'Like what you see? Visit the ' +\n",
              "            '<a target=\"_blank\" href=https://colab.research.google.com/notebooks/data_table.ipynb>data table notebook</a>'\n",
              "            + ' to learn more about interactive tables.';\n",
              "          element.innerHTML = '';\n",
              "          dataTable['output_type'] = 'display_data';\n",
              "          await google.colab.output.renderOutput(dataTable, element);\n",
              "          const docLink = document.createElement('div');\n",
              "          docLink.innerHTML = docLinkHtml;\n",
              "          element.appendChild(docLink);\n",
              "        }\n",
              "      </script>\n",
              "    </div>\n",
              "  </div>\n",
              "  "
            ]
          },
          "metadata": {},
          "execution_count": 8
        }
      ],
      "source": [
        "test"
      ]
    },
    {
      "cell_type": "code",
      "execution_count": null,
      "metadata": {
        "id": "0LoQ56LyJYn9"
      },
      "outputs": [],
      "source": [
        "directory= f\"/content/drive/My Drive/Project/val\"\n",
        "folderlist= os.listdir(directory)\n",
        "image_path_list = []\n",
        "label_list = []\n",
        "for folder in folderlist:\n",
        "    image_list = os.listdir(f\"{directory}/{folder}\")\n",
        "    image_path_list += [ f\"{directory}/{folder}/\"+ path for path in image_list]\n",
        "    label_list += [folder] * len(image_list)\n",
        "\n",
        "val = pd.DataFrame({\"filepath\" : image_path_list, \"label\": label_list})"
      ]
    },
    {
      "cell_type": "code",
      "execution_count": null,
      "metadata": {
        "colab": {
          "base_uri": "https://localhost:8080/",
          "height": 423
        },
        "id": "S1_498soKjHi",
        "outputId": "40368055-08e8-4843-fe44-7b3e35b298a0"
      },
      "outputs": [
        {
          "output_type": "execute_result",
          "data": {
            "text/plain": [
              "                                               filepath label\n",
              "0     /content/drive/My Drive/Project/val/4/9012867R...     4\n",
              "1     /content/drive/My Drive/Project/val/4/9775951L...     4\n",
              "2     /content/drive/My Drive/Project/val/4/9886298L...     4\n",
              "3     /content/drive/My Drive/Project/val/4/9541124L...     4\n",
              "4     /content/drive/My Drive/Project/val/4/9448133L...     4\n",
              "...                                                 ...   ...\n",
              "1651  /content/drive/My Drive/Project/val/2/9735251R...     2\n",
              "1652  /content/drive/My Drive/Project/val/2/9426434L...     2\n",
              "1653  /content/drive/My Drive/Project/val/2/9921329R...     2\n",
              "1654  /content/drive/My Drive/Project/val/2/9828819L...     2\n",
              "1655  /content/drive/My Drive/Project/val/2/9451546R...     2\n",
              "\n",
              "[1656 rows x 2 columns]"
            ],
            "text/html": [
              "\n",
              "  <div id=\"df-fafddc6e-d098-4353-aae8-307419dc66da\">\n",
              "    <div class=\"colab-df-container\">\n",
              "      <div>\n",
              "<style scoped>\n",
              "    .dataframe tbody tr th:only-of-type {\n",
              "        vertical-align: middle;\n",
              "    }\n",
              "\n",
              "    .dataframe tbody tr th {\n",
              "        vertical-align: top;\n",
              "    }\n",
              "\n",
              "    .dataframe thead th {\n",
              "        text-align: right;\n",
              "    }\n",
              "</style>\n",
              "<table border=\"1\" class=\"dataframe\">\n",
              "  <thead>\n",
              "    <tr style=\"text-align: right;\">\n",
              "      <th></th>\n",
              "      <th>filepath</th>\n",
              "      <th>label</th>\n",
              "    </tr>\n",
              "  </thead>\n",
              "  <tbody>\n",
              "    <tr>\n",
              "      <th>0</th>\n",
              "      <td>/content/drive/My Drive/Project/val/4/9012867R...</td>\n",
              "      <td>4</td>\n",
              "    </tr>\n",
              "    <tr>\n",
              "      <th>1</th>\n",
              "      <td>/content/drive/My Drive/Project/val/4/9775951L...</td>\n",
              "      <td>4</td>\n",
              "    </tr>\n",
              "    <tr>\n",
              "      <th>2</th>\n",
              "      <td>/content/drive/My Drive/Project/val/4/9886298L...</td>\n",
              "      <td>4</td>\n",
              "    </tr>\n",
              "    <tr>\n",
              "      <th>3</th>\n",
              "      <td>/content/drive/My Drive/Project/val/4/9541124L...</td>\n",
              "      <td>4</td>\n",
              "    </tr>\n",
              "    <tr>\n",
              "      <th>4</th>\n",
              "      <td>/content/drive/My Drive/Project/val/4/9448133L...</td>\n",
              "      <td>4</td>\n",
              "    </tr>\n",
              "    <tr>\n",
              "      <th>...</th>\n",
              "      <td>...</td>\n",
              "      <td>...</td>\n",
              "    </tr>\n",
              "    <tr>\n",
              "      <th>1651</th>\n",
              "      <td>/content/drive/My Drive/Project/val/2/9735251R...</td>\n",
              "      <td>2</td>\n",
              "    </tr>\n",
              "    <tr>\n",
              "      <th>1652</th>\n",
              "      <td>/content/drive/My Drive/Project/val/2/9426434L...</td>\n",
              "      <td>2</td>\n",
              "    </tr>\n",
              "    <tr>\n",
              "      <th>1653</th>\n",
              "      <td>/content/drive/My Drive/Project/val/2/9921329R...</td>\n",
              "      <td>2</td>\n",
              "    </tr>\n",
              "    <tr>\n",
              "      <th>1654</th>\n",
              "      <td>/content/drive/My Drive/Project/val/2/9828819L...</td>\n",
              "      <td>2</td>\n",
              "    </tr>\n",
              "    <tr>\n",
              "      <th>1655</th>\n",
              "      <td>/content/drive/My Drive/Project/val/2/9451546R...</td>\n",
              "      <td>2</td>\n",
              "    </tr>\n",
              "  </tbody>\n",
              "</table>\n",
              "<p>1656 rows × 2 columns</p>\n",
              "</div>\n",
              "      <button class=\"colab-df-convert\" onclick=\"convertToInteractive('df-fafddc6e-d098-4353-aae8-307419dc66da')\"\n",
              "              title=\"Convert this dataframe to an interactive table.\"\n",
              "              style=\"display:none;\">\n",
              "        \n",
              "  <svg xmlns=\"http://www.w3.org/2000/svg\" height=\"24px\"viewBox=\"0 0 24 24\"\n",
              "       width=\"24px\">\n",
              "    <path d=\"M0 0h24v24H0V0z\" fill=\"none\"/>\n",
              "    <path d=\"M18.56 5.44l.94 2.06.94-2.06 2.06-.94-2.06-.94-.94-2.06-.94 2.06-2.06.94zm-11 1L8.5 8.5l.94-2.06 2.06-.94-2.06-.94L8.5 2.5l-.94 2.06-2.06.94zm10 10l.94 2.06.94-2.06 2.06-.94-2.06-.94-.94-2.06-.94 2.06-2.06.94z\"/><path d=\"M17.41 7.96l-1.37-1.37c-.4-.4-.92-.59-1.43-.59-.52 0-1.04.2-1.43.59L10.3 9.45l-7.72 7.72c-.78.78-.78 2.05 0 2.83L4 21.41c.39.39.9.59 1.41.59.51 0 1.02-.2 1.41-.59l7.78-7.78 2.81-2.81c.8-.78.8-2.07 0-2.86zM5.41 20L4 18.59l7.72-7.72 1.47 1.35L5.41 20z\"/>\n",
              "  </svg>\n",
              "      </button>\n",
              "      \n",
              "  <style>\n",
              "    .colab-df-container {\n",
              "      display:flex;\n",
              "      flex-wrap:wrap;\n",
              "      gap: 12px;\n",
              "    }\n",
              "\n",
              "    .colab-df-convert {\n",
              "      background-color: #E8F0FE;\n",
              "      border: none;\n",
              "      border-radius: 50%;\n",
              "      cursor: pointer;\n",
              "      display: none;\n",
              "      fill: #1967D2;\n",
              "      height: 32px;\n",
              "      padding: 0 0 0 0;\n",
              "      width: 32px;\n",
              "    }\n",
              "\n",
              "    .colab-df-convert:hover {\n",
              "      background-color: #E2EBFA;\n",
              "      box-shadow: 0px 1px 2px rgba(60, 64, 67, 0.3), 0px 1px 3px 1px rgba(60, 64, 67, 0.15);\n",
              "      fill: #174EA6;\n",
              "    }\n",
              "\n",
              "    [theme=dark] .colab-df-convert {\n",
              "      background-color: #3B4455;\n",
              "      fill: #D2E3FC;\n",
              "    }\n",
              "\n",
              "    [theme=dark] .colab-df-convert:hover {\n",
              "      background-color: #434B5C;\n",
              "      box-shadow: 0px 1px 3px 1px rgba(0, 0, 0, 0.15);\n",
              "      filter: drop-shadow(0px 1px 2px rgba(0, 0, 0, 0.3));\n",
              "      fill: #FFFFFF;\n",
              "    }\n",
              "  </style>\n",
              "\n",
              "      <script>\n",
              "        const buttonEl =\n",
              "          document.querySelector('#df-fafddc6e-d098-4353-aae8-307419dc66da button.colab-df-convert');\n",
              "        buttonEl.style.display =\n",
              "          google.colab.kernel.accessAllowed ? 'block' : 'none';\n",
              "\n",
              "        async function convertToInteractive(key) {\n",
              "          const element = document.querySelector('#df-fafddc6e-d098-4353-aae8-307419dc66da');\n",
              "          const dataTable =\n",
              "            await google.colab.kernel.invokeFunction('convertToInteractive',\n",
              "                                                     [key], {});\n",
              "          if (!dataTable) return;\n",
              "\n",
              "          const docLinkHtml = 'Like what you see? Visit the ' +\n",
              "            '<a target=\"_blank\" href=https://colab.research.google.com/notebooks/data_table.ipynb>data table notebook</a>'\n",
              "            + ' to learn more about interactive tables.';\n",
              "          element.innerHTML = '';\n",
              "          dataTable['output_type'] = 'display_data';\n",
              "          await google.colab.output.renderOutput(dataTable, element);\n",
              "          const docLink = document.createElement('div');\n",
              "          docLink.innerHTML = docLinkHtml;\n",
              "          element.appendChild(docLink);\n",
              "        }\n",
              "      </script>\n",
              "    </div>\n",
              "  </div>\n",
              "  "
            ]
          },
          "metadata": {},
          "execution_count": 10
        }
      ],
      "source": [
        "val"
      ]
    },
    {
      "cell_type": "code",
      "execution_count": null,
      "metadata": {
        "id": "zCZZ7ko9Nj3L"
      },
      "outputs": [],
      "source": [
        "test['label']=(test['label']).astype(int)\n",
        "train['label']=(train['label']).astype(int)\n",
        "val['label']=(val['label']).astype(int)"
      ]
    },
    {
      "cell_type": "markdown",
      "source": [
        "## Visualizing Class labels"
      ],
      "metadata": {
        "id": "--bANKsd1NBz"
      }
    },
    {
      "cell_type": "code",
      "execution_count": null,
      "metadata": {
        "colab": {
          "base_uri": "https://localhost:8080/",
          "height": 293
        },
        "id": "IZV5yERnJibO",
        "outputId": "03078e4a-f330-4735-df1e-33f67b876ef0"
      },
      "outputs": [
        {
          "output_type": "execute_result",
          "data": {
            "text/plain": [
              "Text(0, 0.5, 'count')"
            ]
          },
          "metadata": {},
          "execution_count": 12
        },
        {
          "output_type": "display_data",
          "data": {
            "text/plain": [
              "<Figure size 432x288 with 1 Axes>"
            ],
            "image/png": "[encoded data removed]"
          },
          "metadata": {
            "needs_background": "light"
          }
        }
      ],
      "source": [
        "train.label.value_counts().plot.bar()\n",
        "plt.xlabel(\"label\")\n",
        "plt.ylabel(\"count\")"
      ]
    },
    {
      "cell_type": "code",
      "execution_count": null,
      "metadata": {
        "colab": {
          "base_uri": "https://localhost:8080/",
          "height": 293
        },
        "id": "tqCCznpVJtFa",
        "outputId": "86dac476-7628-4194-d41f-6bd922dc6c72"
      },
      "outputs": [
        {
          "output_type": "execute_result",
          "data": {
            "text/plain": [
              "Text(0, 0.5, 'count')"
            ]
          },
          "metadata": {},
          "execution_count": 13
        },
        {
          "output_type": "display_data",
          "data": {
            "text/plain": [
              "<Figure size 432x288 with 1 Axes>"
            ],
            "image/png": "[encoded data removed]"
          },
          "metadata": {
            "needs_background": "light"
          }
        }
      ],
      "source": [
        "test.label.value_counts().plot.bar()\n",
        "plt.xlabel(\"label\")\n",
        "plt.ylabel(\"count\")"
      ]
    },
    {
      "cell_type": "code",
      "execution_count": null,
      "metadata": {
        "colab": {
          "base_uri": "https://localhost:8080/",
          "height": 293
        },
        "id": "4c30BPJiJuff",
        "outputId": "558accbd-f3c5-4e4c-d039-eb8551c93e69"
      },
      "outputs": [
        {
          "output_type": "execute_result",
          "data": {
            "text/plain": [
              "Text(0, 0.5, 'count')"
            ]
          },
          "metadata": {},
          "execution_count": 14
        },
        {
          "output_type": "display_data",
          "data": {
            "text/plain": [
              "<Figure size 432x288 with 1 Axes>"
            ],
            "image/png": "[encoded data removed]"
          },
          "metadata": {
            "needs_background": "light"
          }
        }
      ],
      "source": [
        "val.label.value_counts().plot.bar()\n",
        "plt.xlabel(\"label\")\n",
        "plt.ylabel(\"count\")"
      ]
    },
    {
      "cell_type": "markdown",
      "source": [
        "## Data Augmentation for Train and Validation"
      ],
      "metadata": {
        "id": "ydHuKcBy1RzC"
      }
    },
    {
      "cell_type": "code",
      "execution_count": null,
      "metadata": {
        "id": "UZ-XoNW8Jzpb"
      },
      "outputs": [],
      "source": [
        "train_aug = ImageDataGenerator(rescale=1./255)\n",
        "val_aug = ImageDataGenerator(rescale=1./255)\n",
        "test_aug = ImageDataGenerator(rescale=1./255)"
      ]
    },
    {
      "cell_type": "code",
      "execution_count": null,
      "metadata": {
        "colab": {
          "base_uri": "https://localhost:8080/"
        },
        "id": "oAKECxXBJ_4y",
        "outputId": "26fffe29-e89f-4da9-9fd3-5e86fd082b6e"
      },
      "outputs": [
        {
          "output_type": "stream",
          "name": "stdout",
          "text": [
            "Found 5778 validated image filenames.\n"
          ]
        }
      ],
      "source": [
        "train_generator = train_aug.flow_from_dataframe(\n",
        "dataframe=train,\n",
        "directory=None,\n",
        "x_col=\"filepath\",\n",
        "y_col=\"label\",\n",
        "batch_size=32,\n",
        "seed=42,\n",
        "shuffle=True,\n",
        "class_mode=\"raw\",\n",
        "target_size=(224,224))\n"
      ]
    },
    {
      "cell_type": "code",
      "execution_count": null,
      "metadata": {
        "colab": {
          "base_uri": "https://localhost:8080/"
        },
        "id": "WF9r8nPcKWMA",
        "outputId": "b1831224-272c-4a02-ccff-bdab23892c5d"
      },
      "outputs": [
        {
          "output_type": "stream",
          "name": "stdout",
          "text": [
            "Found 1656 validated image filenames.\n"
          ]
        }
      ],
      "source": [
        "valid_generator = val_aug.flow_from_dataframe(\n",
        "dataframe= val,\n",
        "x_col= \"filepath\",\n",
        "y_col= \"label\",\n",
        "batch_size= 32,\n",
        "seed= 42,\n",
        "shuffle= True,\n",
        "class_mode= \"raw\",\n",
        "target_size= (224,224))"
      ]
    },
    {
      "cell_type": "markdown",
      "source": [
        "## Model Building"
      ],
      "metadata": {
        "id": "VK8WHs5X1UTX"
      }
    },
    {
      "cell_type": "markdown",
      "source": [
        "### Architecture"
      ],
      "metadata": {
        "id": "-pAuXbg21WIH"
      }
    },
    {
      "cell_type": "code",
      "execution_count": null,
      "metadata": {
        "id": "A9toV6F5KsVL",
        "colab": {
          "base_uri": "https://localhost:8080/"
        },
        "outputId": "538d2b82-3bb1-42c3-d580-7f19b27dfdec"
      },
      "outputs": [
        {
          "output_type": "stream",
          "name": "stdout",
          "text": [
            "Downloading data from https://storage.googleapis.com/tensorflow/keras-applications/xception/xception_weights_tf_dim_ordering_tf_kernels.h5\n",
            "91889664/91884032 [==============================] - 1s 0us/step\n",
            "91897856/91884032 [==============================] - 1s 0us/step\n"
          ]
        }
      ],
      "source": [
        "xception = Xception(weights=\"imagenet\",)\n",
        "x= xception.layers[-3].output\n",
        "\n",
        "x = Conv2D(filters= 1024, kernel_size= 3, padding= \"same\")(x)\n",
        "x = BatchNormalization()(x)\n",
        "x = Activation(\"relu\")(x)\n",
        "\n",
        "x = Conv2D(filters= 512, kernel_size= 3, padding= \"same\")(x)\n",
        "x = BatchNormalization()(x)\n",
        "x = Activation(\"relu\")(x)\n",
        "\n",
        "x = Conv2D(filters= 256, kernel_size= 3, padding= \"same\")(x)\n",
        "x = BatchNormalization()(x)\n",
        "x = Activation(\"relu\")(x)\n",
        "\n",
        "x = Conv2D(filters= 64, kernel_size= 3, padding= \"same\")(x)\n",
        "x = BatchNormalization()(x)\n",
        "x = Activation(\"relu\")(x)\n",
        "\n",
        "x = Conv2D(filters= 32, kernel_size= 3, padding= \"same\")(x)\n",
        "x = BatchNormalization()(x)\n",
        "x = Activation(\"relu\")(x)\n",
        "\n",
        "x = Conv2D(filters= 5, kernel_size= 3, padding= \"same\")(x)\n",
        "x = BatchNormalization()(x)\n",
        "x = Activation(\"softmax\")(x)\n",
        "\n",
        "GAP = GlobalAveragePooling2D()(x)\n",
        "pred = tensorflow.keras.activations.softmax(GAP)\n",
        "\n",
        "model = Model(inputs=xception.input,outputs=pred)"
      ]
    },
    {
      "cell_type": "code",
      "source": [
        "model.summary()"
      ],
      "metadata": {
        "colab": {
          "base_uri": "https://localhost:8080/"
        },
        "id": "OIi4DJoEaIm_",
        "outputId": "20c9af45-1b4a-4487-83e3-b5ae436bc7a1"
      },
      "execution_count": null,
      "outputs": [
        {
          "output_type": "stream",
          "name": "stdout",
          "text": [
            "Model: \"model\"\n",
            "__________________________________________________________________________________________________\n",
            " Layer (type)                   Output Shape         Param #     Connected to                     \n",
            "==================================================================================================\n",
            " input_1 (InputLayer)           [(None, 299, 299, 3  0           []                               \n",
            "                                )]                                                                \n",
            "                                                                                                  \n",
            " block1_conv1 (Conv2D)          (None, 149, 149, 32  864         ['input_1[0][0]']                \n",
            "                                )                                                                 \n",
            "                                                                                                  \n",
            " block1_conv1_bn (BatchNormaliz  (None, 149, 149, 32  128        ['block1_conv1[0][0]']           \n",
            " ation)                         )                                                                 \n",
            "                                                                                                  \n",
            " block1_conv1_act (Activation)  (None, 149, 149, 32  0           ['block1_conv1_bn[0][0]']        \n",
            "                                )                                                                 \n",
            "                                                                                                  \n",
            " block1_conv2 (Conv2D)          (None, 147, 147, 64  18432       ['block1_conv1_act[0][0]']       \n",
            "                                )                                                                 \n",
            "                                                                                                  \n",
            " block1_conv2_bn (BatchNormaliz  (None, 147, 147, 64  256        ['block1_conv2[0][0]']           \n",
            " ation)                         )                                                                 \n",
            "                                                                                                  \n",
            " block1_conv2_act (Activation)  (None, 147, 147, 64  0           ['block1_conv2_bn[0][0]']        \n",
            "                                )                                                                 \n",
            "                                                                                                  \n",
            " block2_sepconv1 (SeparableConv  (None, 147, 147, 12  8768       ['block1_conv2_act[0][0]']       \n",
            " 2D)                            8)                                                                \n",
            "                                                                                                  \n",
            " block2_sepconv1_bn (BatchNorma  (None, 147, 147, 12  512        ['block2_sepconv1[0][0]']        \n",
            " lization)                      8)                                                                \n",
            "                                                                                                  \n",
            " block2_sepconv2_act (Activatio  (None, 147, 147, 12  0          ['block2_sepconv1_bn[0][0]']     \n",
            " n)                             8)                                                                \n",
            "                                                                                                  \n",
            " block2_sepconv2 (SeparableConv  (None, 147, 147, 12  17536      ['block2_sepconv2_act[0][0]']    \n",
            " 2D)                            8)                                                                \n",
            "                                                                                                  \n",
            " block2_sepconv2_bn (BatchNorma  (None, 147, 147, 12  512        ['block2_sepconv2[0][0]']        \n",
            " lization)                      8)                                                                \n",
            "                                                                                                  \n",
            " conv2d (Conv2D)                (None, 74, 74, 128)  8192        ['block1_conv2_act[0][0]']       \n",
            "                                                                                                  \n",
            " block2_pool (MaxPooling2D)     (None, 74, 74, 128)  0           ['block2_sepconv2_bn[0][0]']     \n",
            "                                                                                                  \n",
            " batch_normalization (BatchNorm  (None, 74, 74, 128)  512        ['conv2d[0][0]']                 \n",
            " alization)                                                                                       \n",
            "                                                                                                  \n",
            " add (Add)                      (None, 74, 74, 128)  0           ['block2_pool[0][0]',            \n",
            "                                                                  'batch_normalization[0][0]']    \n",
            "                                                                                                  \n",
            " block3_sepconv1_act (Activatio  (None, 74, 74, 128)  0          ['add[0][0]']                    \n",
            " n)                                                                                               \n",
            "                                                                                                  \n",
            " block3_sepconv1 (SeparableConv  (None, 74, 74, 256)  33920      ['block3_sepconv1_act[0][0]']    \n",
            " 2D)                                                                                              \n",
            "                                                                                                  \n",
            " block3_sepconv1_bn (BatchNorma  (None, 74, 74, 256)  1024       ['block3_sepconv1[0][0]']        \n",
            " lization)                                                                                        \n",
            "                                                                                                  \n",
            " block3_sepconv2_act (Activatio  (None, 74, 74, 256)  0          ['block3_sepconv1_bn[0][0]']     \n",
            " n)                                                                                               \n",
            "                                                                                                  \n",
            " block3_sepconv2 (SeparableConv  (None, 74, 74, 256)  67840      ['block3_sepconv2_act[0][0]']    \n",
            " 2D)                                                                                              \n",
            "                                                                                                  \n",
            " block3_sepconv2_bn (BatchNorma  (None, 74, 74, 256)  1024       ['block3_sepconv2[0][0]']        \n",
            " lization)                                                                                        \n",
            "                                                                                                  \n",
            " conv2d_1 (Conv2D)              (None, 37, 37, 256)  32768       ['add[0][0]']                    \n",
            "                                                                                                  \n",
            " block3_pool (MaxPooling2D)     (None, 37, 37, 256)  0           ['block3_sepconv2_bn[0][0]']     \n",
            "                                                                                                  \n",
            " batch_normalization_1 (BatchNo  (None, 37, 37, 256)  1024       ['conv2d_1[0][0]']               \n",
            " rmalization)                                                                                     \n",
            "                                                                                                  \n",
            " add_1 (Add)                    (None, 37, 37, 256)  0           ['block3_pool[0][0]',            \n",
            "                                                                  'batch_normalization_1[0][0]']  \n",
            "                                                                                                  \n",
            " block4_sepconv1_act (Activatio  (None, 37, 37, 256)  0          ['add_1[0][0]']                  \n",
            " n)                                                                                               \n",
            "                                                                                                  \n",
            " block4_sepconv1 (SeparableConv  (None, 37, 37, 728)  188672     ['block4_sepconv1_act[0][0]']    \n",
            " 2D)                                                                                              \n",
            "                                                                                                  \n",
            " block4_sepconv1_bn (BatchNorma  (None, 37, 37, 728)  2912       ['block4_sepconv1[0][0]']        \n",
            " lization)                                                                                        \n",
            "                                                                                                  \n",
            " block4_sepconv2_act (Activatio  (None, 37, 37, 728)  0          ['block4_sepconv1_bn[0][0]']     \n",
            " n)                                                                                               \n",
            "                                                                                                  \n",
            " block4_sepconv2 (SeparableConv  (None, 37, 37, 728)  536536     ['block4_sepconv2_act[0][0]']    \n",
            " 2D)                                                                                              \n",
            "                                                                                                  \n",
            " block4_sepconv2_bn (BatchNorma  (None, 37, 37, 728)  2912       ['block4_sepconv2[0][0]']        \n",
            " lization)                                                                                        \n",
            "                                                                                                  \n",
            " conv2d_2 (Conv2D)              (None, 19, 19, 728)  186368      ['add_1[0][0]']                  \n",
            "                                                                                                  \n",
            " block4_pool (MaxPooling2D)     (None, 19, 19, 728)  0           ['block4_sepconv2_bn[0][0]']     \n",
            "                                                                                                  \n",
            " batch_normalization_2 (BatchNo  (None, 19, 19, 728)  2912       ['conv2d_2[0][0]']               \n",
            " rmalization)                                                                                     \n",
            "                                                                                                  \n",
            " add_2 (Add)                    (None, 19, 19, 728)  0           ['block4_pool[0][0]',            \n",
            "                                                                  'batch_normalization_2[0][0]']  \n",
            "                                                                                                  \n",
            " block5_sepconv1_act (Activatio  (None, 19, 19, 728)  0          ['add_2[0][0]']                  \n",
            " n)                                                                                               \n",
            "                                                                                                  \n",
            " block5_sepconv1 (SeparableConv  (None, 19, 19, 728)  536536     ['block5_sepconv1_act[0][0]']    \n",
            " 2D)                                                                                              \n",
            "                                                                                                  \n",
            " block5_sepconv1_bn (BatchNorma  (None, 19, 19, 728)  2912       ['block5_sepconv1[0][0]']        \n",
            " lization)                                                                                        \n",
            "                                                                                                  \n",
            " block5_sepconv2_act (Activatio  (None, 19, 19, 728)  0          ['block5_sepconv1_bn[0][0]']     \n",
            " n)                                                                                               \n",
            "                                                                                                  \n",
            " block5_sepconv2 (SeparableConv  (None, 19, 19, 728)  536536     ['block5_sepconv2_act[0][0]']    \n",
            " 2D)                                                                                              \n",
            "                                                                                                  \n",
            " block5_sepconv2_bn (BatchNorma  (None, 19, 19, 728)  2912       ['block5_sepconv2[0][0]']        \n",
            " lization)                                                                                        \n",
            "                                                                                                  \n",
            " block5_sepconv3_act (Activatio  (None, 19, 19, 728)  0          ['block5_sepconv2_bn[0][0]']     \n",
            " n)                                                                                               \n",
            "                                                                                                  \n",
            " block5_sepconv3 (SeparableConv  (None, 19, 19, 728)  536536     ['block5_sepconv3_act[0][0]']    \n",
            " 2D)                                                                                              \n",
            "                                                                                                  \n",
            " block5_sepconv3_bn (BatchNorma  (None, 19, 19, 728)  2912       ['block5_sepconv3[0][0]']        \n",
            " lization)                                                                                        \n",
            "                                                                                                  \n",
            " add_3 (Add)                    (None, 19, 19, 728)  0           ['block5_sepconv3_bn[0][0]',     \n",
            "                                                                  'add_2[0][0]']                  \n",
            "                                                                                                  \n",
            " block6_sepconv1_act (Activatio  (None, 19, 19, 728)  0          ['add_3[0][0]']                  \n",
            " n)                                                                                               \n",
            "                                                                                                  \n",
            " block6_sepconv1 (SeparableConv  (None, 19, 19, 728)  536536     ['block6_sepconv1_act[0][0]']    \n",
            " 2D)                                                                                              \n",
            "                                                                                                  \n",
            " block6_sepconv1_bn (BatchNorma  (None, 19, 19, 728)  2912       ['block6_sepconv1[0][0]']        \n",
            " lization)                                                                                        \n",
            "                                                                                                  \n",
            " block6_sepconv2_act (Activatio  (None, 19, 19, 728)  0          ['block6_sepconv1_bn[0][0]']     \n",
            " n)                                                                                               \n",
            "                                                                                                  \n",
            " block6_sepconv2 (SeparableConv  (None, 19, 19, 728)  536536     ['block6_sepconv2_act[0][0]']    \n",
            " 2D)                                                                                              \n",
            "                                                                                                  \n",
            " block6_sepconv2_bn (BatchNorma  (None, 19, 19, 728)  2912       ['block6_sepconv2[0][0]']        \n",
            " lization)                                                                                        \n",
            "                                                                                                  \n",
            " block6_sepconv3_act (Activatio  (None, 19, 19, 728)  0          ['block6_sepconv2_bn[0][0]']     \n",
            " n)                                                                                               \n",
            "                                                                                                  \n",
            " block6_sepconv3 (SeparableConv  (None, 19, 19, 728)  536536     ['block6_sepconv3_act[0][0]']    \n",
            " 2D)                                                                                              \n",
            "                                                                                                  \n",
            " block6_sepconv3_bn (BatchNorma  (None, 19, 19, 728)  2912       ['block6_sepconv3[0][0]']        \n",
            " lization)                                                                                        \n",
            "                                                                                                  \n",
            " add_4 (Add)                    (None, 19, 19, 728)  0           ['block6_sepconv3_bn[0][0]',     \n",
            "                                                                  'add_3[0][0]']                  \n",
            "                                                                                                  \n",
            " block7_sepconv1_act (Activatio  (None, 19, 19, 728)  0          ['add_4[0][0]']                  \n",
            " n)                                                                                               \n",
            "                                                                                                  \n",
            " block7_sepconv1 (SeparableConv  (None, 19, 19, 728)  536536     ['block7_sepconv1_act[0][0]']    \n",
            " 2D)                                                                                              \n",
            "                                                                                                  \n",
            " block7_sepconv1_bn (BatchNorma  (None, 19, 19, 728)  2912       ['block7_sepconv1[0][0]']        \n",
            " lization)                                                                                        \n",
            "                                                                                                  \n",
            " block7_sepconv2_act (Activatio  (None, 19, 19, 728)  0          ['block7_sepconv1_bn[0][0]']     \n",
            " n)                                                                                               \n",
            "                                                                                                  \n",
            " block7_sepconv2 (SeparableConv  (None, 19, 19, 728)  536536     ['block7_sepconv2_act[0][0]']    \n",
            " 2D)                                                                                              \n",
            "                                                                                                  \n",
            " block7_sepconv2_bn (BatchNorma  (None, 19, 19, 728)  2912       ['block7_sepconv2[0][0]']        \n",
            " lization)                                                                                        \n",
            "                                                                                                  \n",
            " block7_sepconv3_act (Activatio  (None, 19, 19, 728)  0          ['block7_sepconv2_bn[0][0]']     \n",
            " n)                                                                                               \n",
            "                                                                                                  \n",
            " block7_sepconv3 (SeparableConv  (None, 19, 19, 728)  536536     ['block7_sepconv3_act[0][0]']    \n",
            " 2D)                                                                                              \n",
            "                                                                                                  \n",
            " block7_sepconv3_bn (BatchNorma  (None, 19, 19, 728)  2912       ['block7_sepconv3[0][0]']        \n",
            " lization)                                                                                        \n",
            "                                                                                                  \n",
            " add_5 (Add)                    (None, 19, 19, 728)  0           ['block7_sepconv3_bn[0][0]',     \n",
            "                                                                  'add_4[0][0]']                  \n",
            "                                                                                                  \n",
            " block8_sepconv1_act (Activatio  (None, 19, 19, 728)  0          ['add_5[0][0]']                  \n",
            " n)                                                                                               \n",
            "                                                                                                  \n",
            " block8_sepconv1 (SeparableConv  (None, 19, 19, 728)  536536     ['block8_sepconv1_act[0][0]']    \n",
            " 2D)                                                                                              \n",
            "                                                                                                  \n",
            " block8_sepconv1_bn (BatchNorma  (None, 19, 19, 728)  2912       ['block8_sepconv1[0][0]']        \n",
            " lization)                                                                                        \n",
            "                                                                                                  \n",
            " block8_sepconv2_act (Activatio  (None, 19, 19, 728)  0          ['block8_sepconv1_bn[0][0]']     \n",
            " n)                                                                                               \n",
            "                                                                                                  \n",
            " block8_sepconv2 (SeparableConv  (None, 19, 19, 728)  536536     ['block8_sepconv2_act[0][0]']    \n",
            " 2D)                                                                                              \n",
            "                                                                                                  \n",
            " block8_sepconv2_bn (BatchNorma  (None, 19, 19, 728)  2912       ['block8_sepconv2[0][0]']        \n",
            " lization)                                                                                        \n",
            "                                                                                                  \n",
            " block8_sepconv3_act (Activatio  (None, 19, 19, 728)  0          ['block8_sepconv2_bn[0][0]']     \n",
            " n)                                                                                               \n",
            "                                                                                                  \n",
            " block8_sepconv3 (SeparableConv  (None, 19, 19, 728)  536536     ['block8_sepconv3_act[0][0]']    \n",
            " 2D)                                                                                              \n",
            "                                                                                                  \n",
            " block8_sepconv3_bn (BatchNorma  (None, 19, 19, 728)  2912       ['block8_sepconv3[0][0]']        \n",
            " lization)                                                                                        \n",
            "                                                                                                  \n",
            " add_6 (Add)                    (None, 19, 19, 728)  0           ['block8_sepconv3_bn[0][0]',     \n",
            "                                                                  'add_5[0][0]']                  \n",
            "                                                                                                  \n",
            " block9_sepconv1_act (Activatio  (None, 19, 19, 728)  0          ['add_6[0][0]']                  \n",
            " n)                                                                                               \n",
            "                                                                                                  \n",
            " block9_sepconv1 (SeparableConv  (None, 19, 19, 728)  536536     ['block9_sepconv1_act[0][0]']    \n",
            " 2D)                                                                                              \n",
            "                                                                                                  \n",
            " block9_sepconv1_bn (BatchNorma  (None, 19, 19, 728)  2912       ['block9_sepconv1[0][0]']        \n",
            " lization)                                                                                        \n",
            "                                                                                                  \n",
            " block9_sepconv2_act (Activatio  (None, 19, 19, 728)  0          ['block9_sepconv1_bn[0][0]']     \n",
            " n)                                                                                               \n",
            "                                                                                                  \n",
            " block9_sepconv2 (SeparableConv  (None, 19, 19, 728)  536536     ['block9_sepconv2_act[0][0]']    \n",
            " 2D)                                                                                              \n",
            "                                                                                                  \n",
            " block9_sepconv2_bn (BatchNorma  (None, 19, 19, 728)  2912       ['block9_sepconv2[0][0]']        \n",
            " lization)                                                                                        \n",
            "                                                                                                  \n",
            " block9_sepconv3_act (Activatio  (None, 19, 19, 728)  0          ['block9_sepconv2_bn[0][0]']     \n",
            " n)                                                                                               \n",
            "                                                                                                  \n",
            " block9_sepconv3 (SeparableConv  (None, 19, 19, 728)  536536     ['block9_sepconv3_act[0][0]']    \n",
            " 2D)                                                                                              \n",
            "                                                                                                  \n",
            " block9_sepconv3_bn (BatchNorma  (None, 19, 19, 728)  2912       ['block9_sepconv3[0][0]']        \n",
            " lization)                                                                                        \n",
            "                                                                                                  \n",
            " add_7 (Add)                    (None, 19, 19, 728)  0           ['block9_sepconv3_bn[0][0]',     \n",
            "                                                                  'add_6[0][0]']                  \n",
            "                                                                                                  \n",
            " block10_sepconv1_act (Activati  (None, 19, 19, 728)  0          ['add_7[0][0]']                  \n",
            " on)                                                                                              \n",
            "                                                                                                  \n",
            " block10_sepconv1 (SeparableCon  (None, 19, 19, 728)  536536     ['block10_sepconv1_act[0][0]']   \n",
            " v2D)                                                                                             \n",
            "                                                                                                  \n",
            " block10_sepconv1_bn (BatchNorm  (None, 19, 19, 728)  2912       ['block10_sepconv1[0][0]']       \n",
            " alization)                                                                                       \n",
            "                                                                                                  \n",
            " block10_sepconv2_act (Activati  (None, 19, 19, 728)  0          ['block10_sepconv1_bn[0][0]']    \n",
            " on)                                                                                              \n",
            "                                                                                                  \n",
            " block10_sepconv2 (SeparableCon  (None, 19, 19, 728)  536536     ['block10_sepconv2_act[0][0]']   \n",
            " v2D)                                                                                             \n",
            "                                                                                                  \n",
            " block10_sepconv2_bn (BatchNorm  (None, 19, 19, 728)  2912       ['block10_sepconv2[0][0]']       \n",
            " alization)                                                                                       \n",
            "                                                                                                  \n",
            " block10_sepconv3_act (Activati  (None, 19, 19, 728)  0          ['block10_sepconv2_bn[0][0]']    \n",
            " on)                                                                                              \n",
            "                                                                                                  \n",
            " block10_sepconv3 (SeparableCon  (None, 19, 19, 728)  536536     ['block10_sepconv3_act[0][0]']   \n",
            " v2D)                                                                                             \n",
            "                                                                                                  \n",
            " block10_sepconv3_bn (BatchNorm  (None, 19, 19, 728)  2912       ['block10_sepconv3[0][0]']       \n",
            " alization)                                                                                       \n",
            "                                                                                                  \n",
            " add_8 (Add)                    (None, 19, 19, 728)  0           ['block10_sepconv3_bn[0][0]',    \n",
            "                                                                  'add_7[0][0]']                  \n",
            "                                                                                                  \n",
            " block11_sepconv1_act (Activati  (None, 19, 19, 728)  0          ['add_8[0][0]']                  \n",
            " on)                                                                                              \n",
            "                                                                                                  \n",
            " block11_sepconv1 (SeparableCon  (None, 19, 19, 728)  536536     ['block11_sepconv1_act[0][0]']   \n",
            " v2D)                                                                                             \n",
            "                                                                                                  \n",
            " block11_sepconv1_bn (BatchNorm  (None, 19, 19, 728)  2912       ['block11_sepconv1[0][0]']       \n",
            " alization)                                                                                       \n",
            "                                                                                                  \n",
            " block11_sepconv2_act (Activati  (None, 19, 19, 728)  0          ['block11_sepconv1_bn[0][0]']    \n",
            " on)                                                                                              \n",
            "                                                                                                  \n",
            " block11_sepconv2 (SeparableCon  (None, 19, 19, 728)  536536     ['block11_sepconv2_act[0][0]']   \n",
            " v2D)                                                                                             \n",
            "                                                                                                  \n",
            " block11_sepconv2_bn (BatchNorm  (None, 19, 19, 728)  2912       ['block11_sepconv2[0][0]']       \n",
            " alization)                                                                                       \n",
            "                                                                                                  \n",
            " block11_sepconv3_act (Activati  (None, 19, 19, 728)  0          ['block11_sepconv2_bn[0][0]']    \n",
            " on)                                                                                              \n",
            "                                                                                                  \n",
            " block11_sepconv3 (SeparableCon  (None, 19, 19, 728)  536536     ['block11_sepconv3_act[0][0]']   \n",
            " v2D)                                                                                             \n",
            "                                                                                                  \n",
            " block11_sepconv3_bn (BatchNorm  (None, 19, 19, 728)  2912       ['block11_sepconv3[0][0]']       \n",
            " alization)                                                                                       \n",
            "                                                                                                  \n",
            " add_9 (Add)                    (None, 19, 19, 728)  0           ['block11_sepconv3_bn[0][0]',    \n",
            "                                                                  'add_8[0][0]']                  \n",
            "                                                                                                  \n",
            " block12_sepconv1_act (Activati  (None, 19, 19, 728)  0          ['add_9[0][0]']                  \n",
            " on)                                                                                              \n",
            "                                                                                                  \n",
            " block12_sepconv1 (SeparableCon  (None, 19, 19, 728)  536536     ['block12_sepconv1_act[0][0]']   \n",
            " v2D)                                                                                             \n",
            "                                                                                                  \n",
            " block12_sepconv1_bn (BatchNorm  (None, 19, 19, 728)  2912       ['block12_sepconv1[0][0]']       \n",
            " alization)                                                                                       \n",
            "                                                                                                  \n",
            " block12_sepconv2_act (Activati  (None, 19, 19, 728)  0          ['block12_sepconv1_bn[0][0]']    \n",
            " on)                                                                                              \n",
            "                                                                                                  \n",
            " block12_sepconv2 (SeparableCon  (None, 19, 19, 728)  536536     ['block12_sepconv2_act[0][0]']   \n",
            " v2D)                                                                                             \n",
            "                                                                                                  \n",
            " block12_sepconv2_bn (BatchNorm  (None, 19, 19, 728)  2912       ['block12_sepconv2[0][0]']       \n",
            " alization)                                                                                       \n",
            "                                                                                                  \n",
            " block12_sepconv3_act (Activati  (None, 19, 19, 728)  0          ['block12_sepconv2_bn[0][0]']    \n",
            " on)                                                                                              \n",
            "                                                                                                  \n",
            " block12_sepconv3 (SeparableCon  (None, 19, 19, 728)  536536     ['block12_sepconv3_act[0][0]']   \n",
            " v2D)                                                                                             \n",
            "                                                                                                  \n",
            " block12_sepconv3_bn (BatchNorm  (None, 19, 19, 728)  2912       ['block12_sepconv3[0][0]']       \n",
            " alization)                                                                                       \n",
            "                                                                                                  \n",
            " add_10 (Add)                   (None, 19, 19, 728)  0           ['block12_sepconv3_bn[0][0]',    \n",
            "                                                                  'add_9[0][0]']                  \n",
            "                                                                                                  \n",
            " block13_sepconv1_act (Activati  (None, 19, 19, 728)  0          ['add_10[0][0]']                 \n",
            " on)                                                                                              \n",
            "                                                                                                  \n",
            " block13_sepconv1 (SeparableCon  (None, 19, 19, 728)  536536     ['block13_sepconv1_act[0][0]']   \n",
            " v2D)                                                                                             \n",
            "                                                                                                  \n",
            " block13_sepconv1_bn (BatchNorm  (None, 19, 19, 728)  2912       ['block13_sepconv1[0][0]']       \n",
            " alization)                                                                                       \n",
            "                                                                                                  \n",
            " block13_sepconv2_act (Activati  (None, 19, 19, 728)  0          ['block13_sepconv1_bn[0][0]']    \n",
            " on)                                                                                              \n",
            "                                                                                                  \n",
            " block13_sepconv2 (SeparableCon  (None, 19, 19, 1024  752024     ['block13_sepconv2_act[0][0]']   \n",
            " v2D)                           )                                                                 \n",
            "                                                                                                  \n",
            " block13_sepconv2_bn (BatchNorm  (None, 19, 19, 1024  4096       ['block13_sepconv2[0][0]']       \n",
            " alization)                     )                                                                 \n",
            "                                                                                                  \n",
            " conv2d_3 (Conv2D)              (None, 10, 10, 1024  745472      ['add_10[0][0]']                 \n",
            "                                )                                                                 \n",
            "                                                                                                  \n",
            " block13_pool (MaxPooling2D)    (None, 10, 10, 1024  0           ['block13_sepconv2_bn[0][0]']    \n",
            "                                )                                                                 \n",
            "                                                                                                  \n",
            " batch_normalization_3 (BatchNo  (None, 10, 10, 1024  4096       ['conv2d_3[0][0]']               \n",
            " rmalization)                   )                                                                 \n",
            "                                                                                                  \n",
            " add_11 (Add)                   (None, 10, 10, 1024  0           ['block13_pool[0][0]',           \n",
            "                                )                                 'batch_normalization_3[0][0]']  \n",
            "                                                                                                  \n",
            " block14_sepconv1 (SeparableCon  (None, 10, 10, 1536  1582080    ['add_11[0][0]']                 \n",
            " v2D)                           )                                                                 \n",
            "                                                                                                  \n",
            " block14_sepconv1_bn (BatchNorm  (None, 10, 10, 1536  6144       ['block14_sepconv1[0][0]']       \n",
            " alization)                     )                                                                 \n",
            "                                                                                                  \n",
            " block14_sepconv1_act (Activati  (None, 10, 10, 1536  0          ['block14_sepconv1_bn[0][0]']    \n",
            " on)                            )                                                                 \n",
            "                                                                                                  \n",
            " block14_sepconv2 (SeparableCon  (None, 10, 10, 2048  3159552    ['block14_sepconv1_act[0][0]']   \n",
            " v2D)                           )                                                                 \n",
            "                                                                                                  \n",
            " block14_sepconv2_bn (BatchNorm  (None, 10, 10, 2048  8192       ['block14_sepconv2[0][0]']       \n",
            " alization)                     )                                                                 \n",
            "                                                                                                  \n",
            " block14_sepconv2_act (Activati  (None, 10, 10, 2048  0          ['block14_sepconv2_bn[0][0]']    \n",
            " on)                            )                                                                 \n",
            "                                                                                                  \n",
            " conv2d_4 (Conv2D)              (None, 10, 10, 1024  18875392    ['block14_sepconv2_act[0][0]']   \n",
            "                                )                                                                 \n",
            "                                                                                                  \n",
            " batch_normalization_4 (BatchNo  (None, 10, 10, 1024  4096       ['conv2d_4[0][0]']               \n",
            " rmalization)                   )                                                                 \n",
            "                                                                                                  \n",
            " activation (Activation)        (None, 10, 10, 1024  0           ['batch_normalization_4[0][0]']  \n",
            "                                )                                                                 \n",
            "                                                                                                  \n",
            " conv2d_5 (Conv2D)              (None, 10, 10, 512)  4719104     ['activation[0][0]']             \n",
            "                                                                                                  \n",
            " batch_normalization_5 (BatchNo  (None, 10, 10, 512)  2048       ['conv2d_5[0][0]']               \n",
            " rmalization)                                                                                     \n",
            "                                                                                                  \n",
            " activation_1 (Activation)      (None, 10, 10, 512)  0           ['batch_normalization_5[0][0]']  \n",
            "                                                                                                  \n",
            " conv2d_6 (Conv2D)              (None, 10, 10, 256)  1179904     ['activation_1[0][0]']           \n",
            "                                                                                                  \n",
            " batch_normalization_6 (BatchNo  (None, 10, 10, 256)  1024       ['conv2d_6[0][0]']               \n",
            " rmalization)                                                                                     \n",
            "                                                                                                  \n",
            " activation_2 (Activation)      (None, 10, 10, 256)  0           ['batch_normalization_6[0][0]']  \n",
            "                                                                                                  \n",
            " conv2d_7 (Conv2D)              (None, 10, 10, 64)   147520      ['activation_2[0][0]']           \n",
            "                                                                                                  \n",
            " batch_normalization_7 (BatchNo  (None, 10, 10, 64)  256         ['conv2d_7[0][0]']               \n",
            " rmalization)                                                                                     \n",
            "                                                                                                  \n",
            " activation_3 (Activation)      (None, 10, 10, 64)   0           ['batch_normalization_7[0][0]']  \n",
            "                                                                                                  \n",
            " conv2d_8 (Conv2D)              (None, 10, 10, 32)   18464       ['activation_3[0][0]']           \n",
            "                                                                                                  \n",
            " batch_normalization_8 (BatchNo  (None, 10, 10, 32)  128         ['conv2d_8[0][0]']               \n",
            " rmalization)                                                                                     \n",
            "                                                                                                  \n",
            " activation_4 (Activation)      (None, 10, 10, 32)   0           ['batch_normalization_8[0][0]']  \n",
            "                                                                                                  \n",
            " conv2d_9 (Conv2D)              (None, 10, 10, 5)    1445        ['activation_4[0][0]']           \n",
            "                                                                                                  \n",
            " batch_normalization_9 (BatchNo  (None, 10, 10, 5)   20          ['conv2d_9[0][0]']               \n",
            " rmalization)                                                                                     \n",
            "                                                                                                  \n",
            " activation_5 (Activation)      (None, 10, 10, 5)    0           ['batch_normalization_9[0][0]']  \n",
            "                                                                                                  \n",
            " global_average_pooling2d (Glob  (None, 5)           0           ['activation_5[0][0]']           \n",
            " alAveragePooling2D)                                                                              \n",
            "                                                                                                  \n",
            " tf.nn.softmax (TFOpLambda)     (None, 5)            0           ['global_average_pooling2d[0][0]'\n",
            "                                                                 ]                                \n",
            "                                                                                                  \n",
            "==================================================================================================\n",
            "Total params: 45,810,881\n",
            "Trainable params: 45,752,567\n",
            "Non-trainable params: 58,314\n",
            "__________________________________________________________________________________________________\n"
          ]
        }
      ]
    },
    {
      "cell_type": "markdown",
      "source": [
        "### Compilation"
      ],
      "metadata": {
        "id": "xY6Gs3G31akR"
      }
    },
    {
      "cell_type": "code",
      "execution_count": null,
      "metadata": {
        "id": "4LT2FSpXLNUU"
      },
      "outputs": [],
      "source": [
        "model.compile(optimizer = Adam(learning_rate=0.00001,decay=0.0001),loss= 'sparse_categorical_crossentropy',metrics = ['acc'])"
      ]
    },
    {
      "cell_type": "markdown",
      "source": [
        "### Checkpoints, Early Stopping and Reduce LR on Plateau"
      ],
      "metadata": {
        "id": "IAbCSrPJ1deI"
      }
    },
    {
      "cell_type": "code",
      "execution_count": null,
      "metadata": {
        "id": "YBYivBZFLYND"
      },
      "outputs": [],
      "source": [
        "checkpoint_dir = os.path.dirname('/content/drive/MyDrive/Project')\n",
        "my_callbacks = [\n",
        "ModelCheckpoint('/content/drive/MyDrive/Project', monitor = 'val_acc',verbose = 1,save_weights_only=True, save_best_only = True,mode=\"max\"),\n",
        "EarlyStopping(monitor='val_loss', patience=5, verbose=0, mode='min'),\n",
        "ReduceLROnPlateau(monitor='val_loss', factor=0.1, patience=5, verbose=1, mode='min',min_delta=1e-4)\n",
        "]"
      ]
    },
    {
      "cell_type": "markdown",
      "source": [
        "### Class Weights"
      ],
      "metadata": {
        "id": "Ef5cqVIi1oFG"
      }
    },
    {
      "cell_type": "code",
      "execution_count": null,
      "metadata": {
        "id": "3U29wJW7Lhq3"
      },
      "outputs": [],
      "source": [
        "class_weights = class_weight.compute_class_weight('balanced',\n",
        "classes= np.unique(train.label.values),\n",
        "y= train.label.values)\n",
        "class_weights = dict(enumerate(class_weights))"
      ]
    },
    {
      "cell_type": "code",
      "execution_count": null,
      "metadata": {
        "colab": {
          "base_uri": "https://localhost:8080/"
        },
        "id": "cPNf1B52LmmL",
        "outputId": "4fe643e8-54d8-44e3-9a53-e020857d75f8"
      },
      "outputs": [
        {
          "output_type": "execute_result",
          "data": {
            "text/plain": [
              "{0: 0.5055118110236221,\n",
              " 1: 1.1047801147227534,\n",
              " 2: 0.7622691292875989,\n",
              " 3: 1.5265521796565389,\n",
              " 4: 6.679768786127168}"
            ]
          },
          "metadata": {},
          "execution_count": 53
        }
      ],
      "source": [
        "class_weights"
      ]
    },
    {
      "cell_type": "markdown",
      "source": [
        "### Fitting the Model"
      ],
      "metadata": {
        "id": "bXfzqO_Z1qxs"
      }
    },
    {
      "cell_type": "code",
      "execution_count": null,
      "metadata": {
        "id": "ZS9ZDJBG91RI",
        "outputId": "4c864283-b7a2-4075-bb8c-46164c13244b"
      },
      "outputs": [
        {
          "name": "stdout",
          "output_type": "stream",
          "text": [
            "Epoch 1/40\n",
            "305/305 [==============================] - 163s 497ms/step - loss: 1.5368 - acc: 0.2719 - val_loss: 1.6770 - val_acc: 0.2413\n",
            "\n",
            "Epoch 00001: val_acc improved from -inf to 0.24129, saving model to training_0/cp.ckpt\n",
            "Epoch 2/40\n",
            "305/305 [==============================] - 148s 486ms/step - loss: 1.2195 - acc: 0.4472 - val_loss: 1.4489 - val_acc: 0.4070\n",
            "\n",
            "Epoch 00002: val_acc improved from 0.24129 to 0.40702, saving model to training_0/cp.ckpt\n",
            "Epoch 3/40\n",
            "305/305 [==============================] - 148s 486ms/step - loss: 1.0700 - acc: 0.5509 - val_loss: 1.2610 - val_acc: 0.5283\n",
            "\n",
            "Epoch 00003: val_acc improved from 0.40702 to 0.52830, saving model to training_0/cp.ckpt\n",
            "Epoch 4/40\n",
            "305/305 [==============================] - 149s 487ms/step - loss: 0.9554 - acc: 0.6199 - val_loss: 1.1081 - val_acc: 0.6450\n",
            "\n",
            "Epoch 00004: val_acc improved from 0.52830 to 0.64498, saving model to training_0/cp.ckpt\n",
            "Epoch 5/40\n",
            "305/305 [==============================] - 148s 487ms/step - loss: 0.8615 - acc: 0.6906 - val_loss: 1.0901 - val_acc: 0.6669\n",
            "\n",
            "Epoch 00005: val_acc improved from 0.64498 to 0.66688, saving model to training_0/cp.ckpt\n",
            "Epoch 6/40\n",
            "305/305 [==============================] - 149s 487ms/step - loss: 0.7798 - acc: 0.7566 - val_loss: 0.9849 - val_acc: 0.7499\n",
            "\n",
            "Epoch 00006: val_acc improved from 0.66688 to 0.74987, saving model to training_0/cp.ckpt\n",
            "Epoch 7/40\n",
            "305/305 [==============================] - 148s 486ms/step - loss: 0.7139 - acc: 0.8146 - val_loss: 0.9624 - val_acc: 0.7687\n",
            "\n",
            "Epoch 00007: val_acc improved from 0.74987 to 0.76870, saving model to training_0/cp.ckpt\n",
            "Epoch 8/40\n",
            "305/305 [==============================] - 148s 487ms/step - loss: 0.6617 - acc: 0.8457 - val_loss: 0.9469 - val_acc: 0.7745\n",
            "\n",
            "Epoch 00008: val_acc improved from 0.76870 to 0.77446, saving model to training_0/cp.ckpt\n",
            "Epoch 9/40\n",
            "305/305 [==============================] - 149s 487ms/step - loss: 0.6239 - acc: 0.8720 - val_loss: 0.9074 - val_acc: 0.8046\n",
            "\n",
            "Epoch 00009: val_acc improved from 0.77446 to 0.80456, saving model to training_0/cp.ckpt\n",
            "Epoch 10/40\n",
            "305/305 [==============================] - 148s 486ms/step - loss: 0.5829 - acc: 0.8980 - val_loss: 0.8964 - val_acc: 0.8166\n",
            "\n",
            "Epoch 00010: val_acc improved from 0.80456 to 0.81660, saving model to training_0/cp.ckpt\n",
            "Epoch 11/40\n",
            "305/305 [==============================] - 149s 487ms/step - loss: 0.5591 - acc: 0.9209 - val_loss: 0.8657 - val_acc: 0.8400\n",
            "\n",
            "Epoch 00011: val_acc improved from 0.81660 to 0.84004, saving model to training_0/cp.ckpt\n",
            "Epoch 12/40\n",
            "305/305 [==============================] - 148s 486ms/step - loss: 0.5335 - acc: 0.9395 - val_loss: 0.8354 - val_acc: 0.8576\n",
            "\n",
            "Epoch 00012: val_acc improved from 0.84004 to 0.85758, saving model to training_0/cp.ckpt\n",
            "Epoch 13/40\n",
            "305/305 [==============================] - 148s 485ms/step - loss: 0.5193 - acc: 0.9515 - val_loss: 0.8419 - val_acc: 0.8667\n",
            "\n",
            "Epoch 00013: val_acc improved from 0.85758 to 0.86668, saving model to training_0/cp.ckpt\n",
            "Epoch 14/40\n",
            "305/305 [==============================] - 148s 485ms/step - loss: 0.5085 - acc: 0.9591 - val_loss: 0.8307 - val_acc: 0.8742\n",
            "\n",
            "Epoch 00014: val_acc improved from 0.86668 to 0.87423, saving model to training_0/cp.ckpt\n",
            "Epoch 15/40\n",
            "305/305 [==============================] - 148s 486ms/step - loss: 0.4978 - acc: 0.9733 - val_loss: 0.8189 - val_acc: 0.8765\n",
            "\n",
            "Epoch 00015: val_acc improved from 0.87423 to 0.87654, saving model to training_0/cp.ckpt\n",
            "Epoch 16/40\n",
            "305/305 [==============================] - 148s 484ms/step - loss: 0.4763 - acc: 0.9785 - val_loss: 0.8312 - val_acc: 0.8649\n",
            "\n",
            "Epoch 00016: val_acc did not improve from 0.87654\n",
            "Epoch 17/40\n",
            "305/305 [==============================] - 148s 486ms/step - loss: 0.4712 - acc: 0.9796 - val_loss: 0.7947 - val_acc: 0.8915\n",
            "\n",
            "Epoch 00017: val_acc improved from 0.87654 to 0.89152, saving model to training_0/cp.ckpt\n",
            "Epoch 18/40\n",
            "305/305 [==============================] - 148s 485ms/step - loss: 0.4656 - acc: 0.9806 - val_loss: 0.8057 - val_acc: 0.8855\n",
            "\n",
            "Epoch 00018: val_acc did not improve from 0.89152\n",
            "Epoch 19/40\n",
            "305/305 [==============================] - 148s 485ms/step - loss: 0.4656 - acc: 0.9843 - val_loss: 0.7751 - val_acc: 0.9056\n",
            "\n",
            "Epoch 00019: val_acc improved from 0.89152 to 0.90561, saving model to training_0/cp.ckpt\n",
            "Epoch 20/40\n",
            "305/305 [==============================] - 148s 484ms/step - loss: 0.4630 - acc: 0.9821 - val_loss: 0.7630 - val_acc: 0.9065\n",
            "\n",
            "Epoch 00020: val_acc improved from 0.90561 to 0.90651, saving model to training_0/cp.ckpt\n",
            "Epoch 21/40\n",
            "305/305 [==============================] - 148s 486ms/step - loss: 0.4459 - acc: 0.9886 - val_loss: 0.7610 - val_acc: 0.9133\n",
            "\n",
            "Epoch 00021: val_acc improved from 0.90651 to 0.91329, saving model to training_0/cp.ckpt\n",
            "Epoch 22/40\n",
            "305/305 [==============================] - 148s 484ms/step - loss: 0.4485 - acc: 0.9893 - val_loss: 0.7553 - val_acc: 0.9083\n",
            "\n",
            "Epoch 00022: val_acc did not improve from 0.91329\n",
            "Epoch 23/40\n",
            "305/305 [==============================] - 148s 485ms/step - loss: 0.4433 - acc: 0.9925 - val_loss: 0.7412 - val_acc: 0.9155\n",
            "\n",
            "Epoch 00023: val_acc improved from 0.91329 to 0.91547, saving model to training_0/cp.ckpt\n",
            "Epoch 24/40\n",
            "305/305 [==============================] - 148s 484ms/step - loss: 0.4391 - acc: 0.9941 - val_loss: 0.7436 - val_acc: 0.9129\n",
            "\n",
            "Epoch 00024: val_acc did not improve from 0.91547\n",
            "Epoch 25/40\n",
            "305/305 [==============================] - 148s 485ms/step - loss: 0.4323 - acc: 0.9937 - val_loss: 0.7419 - val_acc: 0.9114\n",
            "\n",
            "Epoch 00025: val_acc did not improve from 0.91547\n",
            "Epoch 26/40\n",
            "305/305 [==============================] - 148s 484ms/step - loss: 0.4249 - acc: 0.9943 - val_loss: 0.7177 - val_acc: 0.9210\n",
            "\n",
            "Epoch 00026: val_acc improved from 0.91547 to 0.92098, saving model to training_0/cp.ckpt\n",
            "Epoch 27/40\n",
            "305/305 [==============================] - 148s 485ms/step - loss: 0.4257 - acc: 0.9956 - val_loss: 0.7281 - val_acc: 0.9148\n",
            "\n",
            "Epoch 00027: val_acc did not improve from 0.92098\n",
            "Epoch 28/40\n",
            "305/305 [==============================] - 148s 484ms/step - loss: 0.4255 - acc: 0.9951 - val_loss: 0.6988 - val_acc: 0.9274\n",
            "\n",
            "Epoch 00028: val_acc improved from 0.92098 to 0.92738, saving model to training_0/cp.ckpt\n",
            "Epoch 29/40\n",
            "305/305 [==============================] - 148s 485ms/step - loss: 0.4259 - acc: 0.9953 - val_loss: 0.7109 - val_acc: 0.9237\n",
            "\n",
            "Epoch 00029: val_acc did not improve from 0.92738\n",
            "Epoch 30/40\n",
            "305/305 [==============================] - 148s 484ms/step - loss: 0.4187 - acc: 0.9955 - val_loss: 0.6888 - val_acc: 0.9392\n",
            "\n",
            "Epoch 00030: val_acc improved from 0.92738 to 0.93916, saving model to training_0/cp.ckpt\n",
            "Epoch 31/40\n",
            "305/305 [==============================] - 148s 485ms/step - loss: 0.4168 - acc: 0.9952 - val_loss: 0.6967 - val_acc: 0.9279\n",
            "\n",
            "Epoch 00031: val_acc did not improve from 0.93916\n",
            "Epoch 32/40\n",
            "305/305 [==============================] - 148s 486ms/step - loss: 0.4171 - acc: 0.9947 - val_loss: 0.6789 - val_acc: 0.9305\n",
            "\n",
            "Epoch 00032: val_acc did not improve from 0.93916\n",
            "Epoch 33/40\n",
            "305/305 [==============================] - 148s 484ms/step - loss: 0.4083 - acc: 0.9955 - val_loss: 0.6775 - val_acc: 0.9356\n",
            "\n",
            "Epoch 00033: val_acc did not improve from 0.93916\n",
            "Epoch 34/40\n",
            "305/305 [==============================] - 148s 485ms/step - loss: 0.4199 - acc: 0.9953 - val_loss: 0.6687 - val_acc: 0.9439\n",
            "\n",
            "Epoch 00034: val_acc improved from 0.93916 to 0.94390, saving model to training_0/cp.ckpt\n",
            "Epoch 35/40\n",
            "305/305 [==============================] - 148s 485ms/step - loss: 0.4065 - acc: 0.9951 - val_loss: 0.6791 - val_acc: 0.9289\n",
            "\n",
            "Epoch 00035: val_acc did not improve from 0.94390\n",
            "Epoch 36/40\n",
            "305/305 [==============================] - 148s 485ms/step - loss: 0.4123 - acc: 0.9945 - val_loss: 0.6591 - val_acc: 0.9388\n",
            "\n",
            "Epoch 00036: val_acc did not improve from 0.94390\n",
            "Epoch 37/40\n",
            "305/305 [==============================] - 148s 485ms/step - loss: 0.4018 - acc: 0.9953 - val_loss: 0.6629 - val_acc: 0.9365\n",
            "\n",
            "Epoch 00037: val_acc did not improve from 0.94390\n",
            "Epoch 38/40\n",
            "305/305 [==============================] - 148s 484ms/step - loss: 0.4049 - acc: 0.9950 - val_loss: 0.6617 - val_acc: 0.9419\n",
            "\n",
            "Epoch 00038: val_acc did not improve from 0.94390\n",
            "Epoch 39/40\n",
            "305/305 [==============================] - 148s 487ms/step - loss: 0.4009 - acc: 0.9971 - val_loss: 0.6565 - val_acc: 0.9456\n",
            "\n",
            "Epoch 00039: val_acc improved from 0.94390 to 0.94557, saving model to training_0/cp.ckpt\n",
            "Epoch 40/40\n",
            "305/305 [==============================] - 148s 484ms/step - loss: 0.4039 - acc: 0.9969 - val_loss: 0.6417 - val_acc: 0.9416\n",
            "\n",
            "Epoch 00040: val_acc did not improve from 0.94557\n"
          ]
        },
        {
          "data": {
            "text/plain": [
              "<tensorflow.python.keras.callbacks.History at 0x7f9e13c955d0>"
            ]
          },
          "execution_count": 20,
          "metadata": {},
          "output_type": "execute_result"
        }
      ],
      "source": [
        "model.fit(\n",
        "        train_generator,\n",
        "        epochs=40,\n",
        "        validation_data=valid_generator,\n",
        "        callbacks=[my_callbacks],\n",
        "        class_weight=class_weights)"
      ]
    },
    {
      "cell_type": "markdown",
      "source": [
        "## Data Augmentation for Test"
      ],
      "metadata": {
        "id": "Nfapj1gt1tib"
      }
    },
    {
      "cell_type": "code",
      "execution_count": null,
      "metadata": {
        "colab": {
          "base_uri": "https://localhost:8080/"
        },
        "id": "-AyvVtHoJFQB",
        "outputId": "9e04bca2-fd80-4630-9a38-0d9eca0cb6ca"
      },
      "outputs": [
        {
          "output_type": "stream",
          "name": "stdout",
          "text": [
            "Found 826 validated image filenames.\n"
          ]
        }
      ],
      "source": [
        "test_gen = test_aug.flow_from_dataframe(dataframe= test,\n",
        "                            x_col= \"filepath\",\n",
        "                            y_col= \"label\",\n",
        "                            class_mode=None,\n",
        "                            target_size= (299, 299),\n",
        "                            shuffle= False,\n",
        "                            batch_size= 1\n",
        "                            )"
      ]
    },
    {
      "cell_type": "markdown",
      "source": [
        "## Predicting the model"
      ],
      "metadata": {
        "id": "KU7uXuZ-15aw"
      }
    },
    {
      "cell_type": "code",
      "execution_count": null,
      "metadata": {
        "id": "eox-Dmx0IH2S"
      },
      "outputs": [],
      "source": [
        "pred=model.predict(test_gen)"
      ]
    },
    {
      "cell_type": "markdown",
      "source": [
        "## Confusion Matrix"
      ],
      "metadata": {
        "id": "QAc-leT617gY"
      }
    },
    {
      "cell_type": "code",
      "execution_count": null,
      "metadata": {
        "execution": {
          "iopub.execute_input": "2021-05-27T11:12:53.216725Z",
          "iopub.status.busy": "2021-05-27T11:12:53.214922Z",
          "iopub.status.idle": "2021-05-27T11:12:53.485849Z",
          "shell.execute_reply": "2021-05-27T11:12:53.486629Z",
          "shell.execute_reply.started": "2021-05-27T05:43:44.837052Z"
        },
        "papermill": {
          "duration": 5.072924,
          "end_time": "2021-05-27T11:12:53.486818",
          "exception": false,
          "start_time": "2021-05-27T11:12:48.413894",
          "status": "completed"
        },
        "tags": [],
        "outputId": "132e5552-641e-4962-c338-f5613ea533fa",
        "id": "N1QqvsmIY48O"
      },
      "outputs": [
        {
          "data": {
            "text/plain": [
              "<sklearn.metrics._plot.confusion_matrix.ConfusionMatrixDisplay at 0x7f99a6038e10>"
            ]
          },
          "execution_count": 32,
          "metadata": {},
          "output_type": "execute_result"
        },
        {
          "data": {
            "image/png": "[encoded data removed]",
            "text/plain": [
              "<Figure size 432x288 with 2 Axes>"
            ]
          },
          "metadata": {
            "needs_background": "light"
          },
          "output_type": "display_data"
        }
      ],
      "source": [
        "predtest =  np.argmax(pred, axis= 1)\n",
        "cm = confusion_matrix(test.label, predtest, labels=[0, 1, 2, 3, 4])\n",
        "disp = ConfusionMatrixDisplay(confusion_matrix=cm, display_labels=[0, 1, 2, 3, 4])\n",
        "disp.plot()"
      ]
    }
  ],
  "metadata": {
    "accelerator": "GPU",
    "colab": {
      "collapsed_sections": [],
      "name": "Osteoarthritis CNN .ipynb",
      "provenance": []
    },
    "kernelspec": {
      "display_name": "Python 3",
      "name": "python3"
    },
    "language_info": {
      "name": "python"
    }
  },
  "nbformat": 4,
  "nbformat_minor": 0
}